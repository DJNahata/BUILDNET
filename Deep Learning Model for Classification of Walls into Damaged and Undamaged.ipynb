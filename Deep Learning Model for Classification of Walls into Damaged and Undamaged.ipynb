{
 "cells": [
  {
   "cell_type": "code",
   "execution_count": 1,
   "metadata": {},
   "outputs": [
    {
     "name": "stderr",
     "output_type": "stream",
     "text": [
      "Using TensorFlow backend.\n"
     ]
    }
   ],
   "source": [
    "from skimage.io import imread,imsave\n",
    "from keras.models import Model,load_model\n",
    "from keras.optimizers import SGD,Adam\n",
    "from keras.layers import *\n",
    "from skimage.util import pad,crop\n",
    "from skimage.transform import resize\n",
    "import os\n",
    "from sklearn.model_selection import train_test_split\n",
    "from keras.callbacks import ReduceLROnPlateau,ModelCheckpoint,CSVLogger,Callback,EarlyStopping\n",
    "import tensorflow as tf\n",
    "import keras.backend as K\n",
    "from keras.utils import plot_model\n",
    "import matplotlib.pyplot as plt"
   ]
  },
  {
   "cell_type": "code",
   "execution_count": null,
   "metadata": {},
   "outputs": [],
   "source": [
    "img_rows = 224\n",
    "img_cols = 224\n",
    "num_channels = 3\n",
    "inputs = Input((img_rows, img_cols, num_channels))\n",
    "\n",
    "x = Conv2D(64, (2,2) , activation = 'relu', padding = 'same', name = 'block1_conv1')(inputs)\n",
    "x = Conv2D(64, (2,2), activation = 'relu', padding = 'same', name = 'block1_conv2')(x)\n",
    "#x = Conv2D(64, (3,3), activation = 'relu', padding = 'same', name = 'block1_conv3')(x)\n",
    "#x = Conv2D(64, (3,3), activation = 'relu', padding = 'same', name = 'block1_conv4')(x)\n",
    "x = MaxPooling2D((2, 2), strides = (2, 2), name = 'block1_pool')(x)\n",
    "\n",
    "x = Conv2D(128, (2,2), activation = 'relu', padding = 'same', name = 'block2_conv1')(x)\n",
    "x = Conv2D(128, (2,2), activation = 'relu', padding = 'same', name = 'block2_conv2')(x)\n",
    "x = Conv2D(128, (2,2), activation = 'relu', padding = 'same', name = 'block2_conv3')(x)\n",
    "#x = Conv2D(128, (3,3), activation = 'relu', padding = 'same', name = 'block2_conv4')(x)\n",
    "x = MaxPooling2D((2, 2), strides = (2, 2), name = 'block2_pool')(x)\n",
    "\n",
    "x = Conv2D(256, (2,2), activation = 'relu', padding = 'same', name = 'block3_conv1')(x)\n",
    "x = Conv2D(256, (2,2), activation = 'relu', padding = 'same', name = 'block3_conv2')(x)\n",
    "x = Conv2D(256, (2,2), activation = 'relu', padding = 'same', name = 'block3_conv3')(x)\n",
    "#x = Conv2D(256, (3,3), activation = 'relu', padding = 'same', name = 'block3_conv4')(x)\n",
    "x = MaxPooling2D((2, 2), strides = (2, 2), name = 'block3_pool')(x)\n",
    "\n",
    "x = Conv2D(512, (2,2), activation = 'relu', padding = 'same', name = 'block4_conv1')(x)\n",
    "x = Conv2D(512, (2,2), activation = 'relu', padding = 'same', name = 'block4_conv2')(x)\n",
    "x = Conv2D(512, (2,2), activation = 'relu', padding = 'same', name = 'block4_conv3')(x)\n",
    "#x = Conv2D(512, (3,3), activation = 'relu', padding = 'same', name = 'block4_conv4')(x)\n",
    "x = MaxPooling2D((2, 2), strides = (2, 2), name = 'block4_pool')(x)\n",
    "\n",
    "x = Conv2D(512, (2,2), activation = 'relu', padding = 'same', name = 'block5_conv1')(x)\n",
    "x = Conv2D(512, (2,2), activation = 'relu', padding = 'same', name = 'block5_conv2')(x)\n",
    "x = Conv2D(512, (2,2), activation = 'relu', padding = 'same', name = 'block5_conv3')(x)\n",
    "#x = Conv2D(512, (3,3), activation = 'relu', padding = 'same', name = 'block5_conv4')(x)\n",
    "x = MaxPooling2D((2, 2), strides = (2, 2), name = 'block5_pool')(x)\n",
    "\n",
    "model11 = Model(inputs = inputs, outputs = x)\n",
    "model11.summary()"
   ]
  }
 ],
 "metadata": {
  "kernelspec": {
   "display_name": "Python 3",
   "language": "python",
   "name": "python3"
  },
  "language_info": {
   "codemirror_mode": {
    "name": "ipython",
    "version": 3
   },
   "file_extension": ".py",
   "mimetype": "text/x-python",
   "name": "python",
   "nbconvert_exporter": "python",
   "pygments_lexer": "ipython3",
   "version": "3.6.6"
  }
 },
 "nbformat": 4,
 "nbformat_minor": 2
}
