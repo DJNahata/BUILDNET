{
 "cells": [
  {
   "cell_type": "code",
   "execution_count": 1,
   "metadata": {},
   "outputs": [
    {
     "name": "stderr",
     "output_type": "stream",
     "text": [
      "Using TensorFlow backend.\n"
     ]
    }
   ],
   "source": [
    "from skimage.io import imread,imsave\n",
    "from keras.models import Model,load_model\n",
    "from keras.optimizers import SGD,Adam\n",
    "from keras.layers import *\n",
    "from skimage.util import pad,crop\n",
    "from skimage.transform import resize\n",
    "import os\n",
    "from sklearn.model_selection import train_test_split\n",
    "from keras.callbacks import ReduceLROnPlateau,ModelCheckpoint,CSVLogger,Callback,EarlyStopping\n",
    "import tensorflow as tf\n",
    "import keras.backend as K\n",
    "from keras.utils import plot_model\n",
    "import matplotlib.pyplot as plt"
   ]
  },
  {
   "cell_type": "code",
   "execution_count": 3,
   "metadata": {},
   "outputs": [
    {
     "name": "stdout",
     "output_type": "stream",
     "text": [
      "_________________________________________________________________\n",
      "Layer (type)                 Output Shape              Param #   \n",
      "=================================================================\n",
      "input_2 (InputLayer)         (None, 224, 224, 3)       0         \n",
      "_________________________________________________________________\n",
      "1_convolutional_layer1 (Conv (None, 224, 224, 64)      832       \n",
      "_________________________________________________________________\n",
      "1_convolutional_layer2 (Conv (None, 224, 224, 64)      16448     \n",
      "_________________________________________________________________\n",
      "1_convolutional_layer3 (Conv (None, 224, 224, 64)      16448     \n",
      "_________________________________________________________________\n",
      "1_pooling_1 (MaxPooling2D)   (None, 112, 112, 64)      0         \n",
      "_________________________________________________________________\n",
      "2_convolutional_layer1 (Conv (None, 112, 112, 128)     32896     \n",
      "_________________________________________________________________\n",
      "2_convolutional_layer2 (Conv (None, 112, 112, 128)     65664     \n",
      "_________________________________________________________________\n",
      "2_convolutional_layer3 (Conv (None, 112, 112, 128)     65664     \n",
      "_________________________________________________________________\n",
      "block2_pool (MaxPooling2D)   (None, 56, 56, 128)       0         \n",
      "_________________________________________________________________\n",
      "3_convolutional_layer1 (Conv (None, 56, 56, 256)       131328    \n",
      "_________________________________________________________________\n",
      "3_convolutional_layer2 (Conv (None, 56, 56, 256)       262400    \n",
      "_________________________________________________________________\n",
      "3_convolutional_layer3 (Conv (None, 56, 56, 256)       262400    \n",
      "_________________________________________________________________\n",
      "block3_pool (MaxPooling2D)   (None, 28, 28, 256)       0         \n",
      "_________________________________________________________________\n",
      "4_convolutional_layer1 (Conv (None, 28, 28, 512)       524800    \n",
      "_________________________________________________________________\n",
      "4_convolutional_layer2 (Conv (None, 28, 28, 512)       1049088   \n",
      "_________________________________________________________________\n",
      "4_convolutional_layer3 (Conv (None, 28, 28, 512)       1049088   \n",
      "_________________________________________________________________\n",
      "block4_pool (MaxPooling2D)   (None, 14, 14, 512)       0         \n",
      "_________________________________________________________________\n",
      "5_convolutional_layer1 (Conv (None, 14, 14, 512)       1049088   \n",
      "_________________________________________________________________\n",
      "5_convolutional_layer2 (Conv (None, 14, 14, 512)       1049088   \n",
      "_________________________________________________________________\n",
      "5_convolutional_layer3 (Conv (None, 14, 14, 512)       1049088   \n",
      "_________________________________________________________________\n",
      "block5_pool (MaxPooling2D)   (None, 7, 7, 512)         0         \n",
      "=================================================================\n",
      "Total params: 6,624,320\n",
      "Trainable params: 6,624,320\n",
      "Non-trainable params: 0\n",
      "_________________________________________________________________\n"
     ]
    }
   ],
   "source": [
    "img_rows = 224\n",
    "img_cols = 224\n",
    "num_channels = 3\n",
    "inputs = Input((img_rows, img_cols, num_channels))\n",
    "\n",
    "x = Conv2D(64, (2,2) , activation = 'relu', padding = 'same', name = '1_convolutional_layer1')(inputs)\n",
    "x = Conv2D(64, (2,2), activation = 'relu', padding = 'same', name = '1_convolutional_layer2')(x)\n",
    "x = Conv2D(64, (2,2), activation = 'relu', padding = 'same', name = '1_convolutional_layer3')(x)\n",
    "\n",
    "x = MaxPooling2D((2, 2), strides = (2, 2), name = '1_pooling_1')(x)\n",
    "\n",
    "x = Conv2D(128, (2,2), activation = 'relu', padding = 'same', name = '2_convolutional_layer1')(x)\n",
    "x = Conv2D(128, (2,2), activation = 'relu', padding = 'same', name = '2_convolutional_layer2')(x)\n",
    "x = Conv2D(128, (2,2), activation = 'relu', padding = 'same', name = '2_convolutional_layer3')(x)\n",
    "\n",
    "x = MaxPooling2D((2, 2), strides = (2, 2), name = 'block2_pool')(x)\n",
    "\n",
    "x = Conv2D(256, (2,2), activation = 'relu', padding = 'same', name = '3_convolutional_layer1')(x)\n",
    "x = Conv2D(256, (2,2), activation = 'relu', padding = 'same', name = '3_convolutional_layer2')(x)\n",
    "x = Conv2D(256, (2,2), activation = 'relu', padding = 'same', name = '3_convolutional_layer3')(x)\n",
    "\n",
    "x = MaxPooling2D((2, 2), strides = (2, 2), name = 'block3_pool')(x)\n",
    "\n",
    "x = Conv2D(512, (2,2), activation = 'relu', padding = 'same', name = '4_convolutional_layer1')(x)\n",
    "x = Conv2D(512, (2,2), activation = 'relu', padding = 'same', name = '4_convolutional_layer2')(x)\n",
    "x = Conv2D(512, (2,2), activation = 'relu', padding = 'same', name = '4_convolutional_layer3')(x)\n",
    "\n",
    "x = MaxPooling2D((2, 2), strides = (2, 2), name = 'block4_pool')(x)\n",
    "\n",
    "x = Conv2D(512, (2,2), activation = 'relu', padding = 'same', name = '5_convolutional_layer1')(x)\n",
    "x = Conv2D(512, (2,2), activation = 'relu', padding = 'same', name = '5_convolutional_layer2')(x)\n",
    "x = Conv2D(512, (2,2), activation = 'relu', padding = 'same', name = '5_convolutional_layer3')(x)\n",
    "\n",
    "x = MaxPooling2D((2, 2), strides = (2, 2), name = 'block5_pool')(x)\n",
    "\n",
    "model11 = Model(inputs = inputs, outputs = x)\n",
    "model11.summary()"
   ]
  }
 ],
 "metadata": {
  "kernelspec": {
   "display_name": "Python 3",
   "language": "python",
   "name": "python3"
  },
  "language_info": {
   "codemirror_mode": {
    "name": "ipython",
    "version": 3
   },
   "file_extension": ".py",
   "mimetype": "text/x-python",
   "name": "python",
   "nbconvert_exporter": "python",
   "pygments_lexer": "ipython3",
   "version": "3.6.6"
  }
 },
 "nbformat": 4,
 "nbformat_minor": 2
}
