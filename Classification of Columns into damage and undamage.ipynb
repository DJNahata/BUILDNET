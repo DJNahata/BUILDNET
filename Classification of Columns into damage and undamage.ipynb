{
 "cells": [
  {
   "cell_type": "code",
   "execution_count": 1,
   "metadata": {
    "colab": {
     "base_uri": "https://localhost:8080/",
     "height": 224
    },
    "colab_type": "code",
    "executionInfo": {
     "elapsed": 6871,
     "status": "ok",
     "timestamp": 1550829073345,
     "user": {
      "displayName": "Harish Mulchandani",
      "photoUrl": "https://lh6.googleusercontent.com/-06QAT24CkOg/AAAAAAAAAAI/AAAAAAAAACI/g52CnYOWAF8/s64/photo.jpg",
      "userId": "09422167658826337403"
     },
     "user_tz": -330
    },
    "id": "UdElTxi1L7u4",
    "outputId": "1ac26c42-9f16-435f-8c8d-fed167d75543"
   },
   "outputs": [
    {
     "name": "stdout",
     "output_type": "stream",
     "text": [
      "Requirement already satisfied: kaggle in /usr/local/lib/python3.6/dist-packages (1.5.2)\n",
      "Requirement already satisfied: urllib3<1.23.0,>=1.15 in /usr/local/lib/python3.6/dist-packages (from kaggle) (1.22)\n",
      "Requirement already satisfied: six>=1.10 in /usr/local/lib/python3.6/dist-packages (from kaggle) (1.11.0)\n",
      "Requirement already satisfied: certifi in /usr/local/lib/python3.6/dist-packages (from kaggle) (2018.11.29)\n",
      "Requirement already satisfied: python-dateutil in /usr/local/lib/python3.6/dist-packages (from kaggle) (2.5.3)\n",
      "Requirement already satisfied: requests in /usr/local/lib/python3.6/dist-packages (from kaggle) (2.18.4)\n",
      "Requirement already satisfied: tqdm in /usr/local/lib/python3.6/dist-packages (from kaggle) (4.28.1)\n",
      "Requirement already satisfied: python-slugify in /usr/local/lib/python3.6/dist-packages (from kaggle) (2.0.1)\n",
      "Requirement already satisfied: chardet<3.1.0,>=3.0.2 in /usr/local/lib/python3.6/dist-packages (from requests->kaggle) (3.0.4)\n",
      "Requirement already satisfied: idna<2.7,>=2.5 in /usr/local/lib/python3.6/dist-packages (from requests->kaggle) (2.6)\n",
      "Requirement already satisfied: Unidecode>=0.04.16 in /usr/local/lib/python3.6/dist-packages (from python-slugify->kaggle) (1.0.23)\n"
     ]
    }
   ],
   "source": [
    "!pip install kaggle"
   ]
  },
  {
   "cell_type": "code",
   "execution_count": 2,
   "metadata": {
    "colab": {
     "base_uri": "https://localhost:8080/",
     "height": 74,
     "resources": {
      "http://localhost:8080/nbextensions/google.colab/files.js": {
       "data": "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",
       "headers": [
        [
         "content-type",
         "application/javascript"
        ]
       ],
       "ok": true,
       "status": 200,
       "status_text": ""
      }
     }
    },
    "colab_type": "code",
    "executionInfo": {
     "elapsed": 12107,
     "status": "ok",
     "timestamp": 1550829087041,
     "user": {
      "displayName": "Harish Mulchandani",
      "photoUrl": "https://lh6.googleusercontent.com/-06QAT24CkOg/AAAAAAAAAAI/AAAAAAAAACI/g52CnYOWAF8/s64/photo.jpg",
      "userId": "09422167658826337403"
     },
     "user_tz": -330
    },
    "id": "L2MQro75MR-r",
    "outputId": "a201a9f8-0047-4954-f109-cfb2643ead10"
   },
   "outputs": [
    {
     "data": {
      "text/html": [
       "\n",
       "     <input type=\"file\" id=\"files-a96c3481-6184-4e0d-973d-356564a2dbdb\" name=\"files[]\" multiple disabled />\n",
       "     <output id=\"result-a96c3481-6184-4e0d-973d-356564a2dbdb\">\n",
       "      Upload widget is only available when the cell has been executed in the\n",
       "      current browser session. Please rerun this cell to enable.\n",
       "      </output>\n",
       "      <script src=\"/nbextensions/google.colab/files.js\"></script> "
      ],
      "text/plain": [
       "<IPython.core.display.HTML object>"
      ]
     },
     "metadata": {
      "tags": []
     },
     "output_type": "display_data"
    },
    {
     "name": "stdout",
     "output_type": "stream",
     "text": [
      "Saving kaggle.json to kaggle.json\n"
     ]
    }
   ],
   "source": [
    "from google.colab import files\n",
    "upload = files.upload()"
   ]
  },
  {
   "cell_type": "code",
   "execution_count": 0,
   "metadata": {
    "colab": {},
    "colab_type": "code",
    "id": "Dp6aWJaVM3zb"
   },
   "outputs": [],
   "source": [
    "!mkdir -p ~/.kaggle\n",
    "!cp kaggle.json ~/.kaggle/\n",
    "\n",
    "!chmod 600 ~/.kaggle/kaggle.json"
   ]
  },
  {
   "cell_type": "code",
   "execution_count": 4,
   "metadata": {
    "colab": {
     "base_uri": "https://localhost:8080/",
     "height": 2210
    },
    "colab_type": "code",
    "executionInfo": {
     "elapsed": 104953,
     "status": "ok",
     "timestamp": 1550829209833,
     "user": {
      "displayName": "Harish Mulchandani",
      "photoUrl": "https://lh6.googleusercontent.com/-06QAT24CkOg/AAAAAAAAAAI/AAAAAAAAACI/g52CnYOWAF8/s64/photo.jpg",
      "userId": "09422167658826337403"
     },
     "user_tz": -330
    },
    "id": "GjrO3BUOM-fz",
    "outputId": "82c4b58a-ab63-4d7c-80c8-f9f4a5ccfbc6"
   },
   "outputs": [
    {
     "name": "stdout",
     "output_type": "stream",
     "text": [
      "Downloading Damaged_test_Beams.npy.zip to /content\n",
      "\r",
      "  0% 0.00/2.51M [00:00<?, ?B/s]\n",
      "100% 2.51M/2.51M [00:00<00:00, 85.2MB/s]\n",
      "Downloading yTest_Damaged_columns.npy to /content\n",
      "  0% 0.00/1.05k [00:00<?, ?B/s]\n",
      "100% 1.05k/1.05k [00:00<00:00, 879kB/s]\n",
      "Downloading yTest_UnDamaged_Beams.npy to /content\n",
      "  0% 0.00/340 [00:00<?, ?B/s]\n",
      "100% 340/340 [00:00<00:00, 274kB/s]\n",
      "Downloading yTest_UnDamaged_columns.npy to /content\n",
      "  0% 0.00/244 [00:00<?, ?B/s]\n",
      "100% 244/244 [00:00<00:00, 232kB/s]\n",
      "Downloading yTest_walls.npy to /content\n",
      "  0% 0.00/1.00k [00:00<?, ?B/s]\n",
      "100% 1.00k/1.00k [00:00<00:00, 963kB/s]\n",
      "Downloading yTrain_Beams.npy to /content\n",
      "  0% 0.00/1.18k [00:00<?, ?B/s]\n",
      "100% 1.18k/1.18k [00:00<00:00, 1.20MB/s]\n",
      "Downloading yTrain_buildings.npy to /content\n",
      "  0% 0.00/3.11k [00:00<?, ?B/s]\n",
      "100% 3.11k/3.11k [00:00<00:00, 3.09MB/s]\n",
      "Downloading yTrain_Columns.npy to /content\n",
      "  0% 0.00/2.70k [00:00<?, ?B/s]\n",
      "100% 2.70k/2.70k [00:00<00:00, 2.81MB/s]\n",
      "Downloading yTrain_Damaged_Beams.npy to /content\n",
      "  0% 0.00/476 [00:00<?, ?B/s]\n",
      "100% 476/476 [00:00<00:00, 368kB/s]\n",
      "Downloading yTest_Damaged_Beams.npy to /content\n",
      "  0% 0.00/208 [00:00<?, ?B/s]\n",
      "100% 208/208 [00:00<00:00, 66.5kB/s]\n",
      "Downloading yTrain_Damaged_columns.npy to /content\n",
      "  0% 0.00/2.29k [00:00<?, ?B/s]\n",
      "100% 2.29k/2.29k [00:00<00:00, 2.42MB/s]\n",
      "Downloading yTrain_UnDamaged_columns.npy to /content\n",
      "  0% 0.00/548 [00:00<?, ?B/s]\n",
      "100% 548/548 [00:00<00:00, 551kB/s]\n",
      "Downloading yTrain_walls.npy to /content\n",
      "  0% 0.00/2.64k [00:00<?, ?B/s]\n",
      "100% 2.64k/2.64k [00:00<00:00, 3.42MB/s]\n",
      "Downloading Damaged_test_walls.npy.zip to /content\n",
      " 81% 17.0M/21.0M [00:01<00:00, 13.5MB/s]\n",
      "100% 21.0M/21.0M [00:01<00:00, 18.9MB/s]\n",
      "Downloading Damaged_train_walls.npy.zip to /content\n",
      " 81% 49.0M/60.5M [00:01<00:00, 25.3MB/s]\n",
      "100% 60.5M/60.5M [00:01<00:00, 36.9MB/s]\n",
      "Downloading UnDamaged_test_walls.npy.zip to /content\n",
      "100% 4.08M/4.08M [00:00<00:00, 25.1MB/s]\n",
      "\n",
      "Downloading UnDamaged_train_walls.npy.zip to /content\n",
      " 38% 5.00M/13.1M [00:00<00:01, 7.04MB/s]\n",
      "100% 13.1M/13.1M [00:00<00:00, 16.9MB/s]\n",
      "Downloading yTest_Damaged_walls.npy to /content\n",
      "  0% 0.00/864 [00:00<?, ?B/s]\n",
      "100% 864/864 [00:00<00:00, 995kB/s]\n",
      "Downloading yTest_UnDamaged_walls.npy to /content\n",
      "  0% 0.00/292 [00:00<?, ?B/s]\n",
      "100% 292/292 [00:00<00:00, 299kB/s]\n",
      "Downloading yTrain_UnDamaged_Beams.npy to /content\n",
      "  0% 0.00/856 [00:00<?, ?B/s]\n",
      "100% 856/856 [00:00<00:00, 872kB/s]\n",
      "Downloading yTrain_Damaged_walls.npy to /content\n",
      "  0% 0.00/2.11k [00:00<?, ?B/s]\n",
      "100% 2.11k/2.11k [00:00<00:00, 1.71MB/s]\n",
      "Downloading yTest_Columns.npy to /content\n",
      "  0% 0.00/1.17k [00:00<?, ?B/s]\n",
      "100% 1.17k/1.17k [00:00<00:00, 1.19MB/s]\n",
      "Downloading yTest_Beams.npy to /content\n",
      "  0% 0.00/420 [00:00<?, ?B/s]\n",
      "100% 420/420 [00:00<00:00, 325kB/s]\n",
      "Downloading Damaged_test_Columns.npy.zip to /content\n",
      " 65% 22.0M/33.6M [00:00<00:01, 9.98MB/s]\n",
      "100% 33.6M/33.6M [00:00<00:00, 38.5MB/s]\n",
      "Downloading Damaged_train_Beams.npy.zip to /content\n",
      " 82% 9.00M/11.0M [00:01<00:00, 6.50MB/s]\n",
      "100% 11.0M/11.0M [00:01<00:00, 6.90MB/s]\n",
      "Downloading Damaged_train_Columns.npy.zip to /content\n",
      " 92% 73.0M/79.0M [00:02<00:00, 29.4MB/s]\n",
      "100% 79.0M/79.0M [00:02<00:00, 39.1MB/s]\n",
      "Downloading inception_v3_weights_tf_dim_ordering_tf_kernels_notop.h5.zip to /content\n",
      " 84% 65.0M/77.3M [00:01<00:00, 24.4MB/s]\n",
      "100% 77.3M/77.3M [00:02<00:00, 40.1MB/s]\n",
      "Downloading resnet50_weights_tf_dim_ordering_tf_kernels_notop.h5.zip to /content\n",
      " 87% 73.0M/83.5M [00:00<00:00, 54.5MB/s]\n",
      "100% 83.5M/83.5M [00:00<00:00, 90.5MB/s]\n",
      "Downloading UnDamaged_test_Beams.npy.zip to /content\n",
      " 95% 5.00M/5.26M [00:00<00:00, 10.2MB/s]\n",
      "100% 5.26M/5.26M [00:00<00:00, 10.7MB/s]\n",
      "Downloading UnDamaged_test_Columns.npy.zip to /content\n",
      "  0% 0.00/3.42M [00:00<?, ?B/s]\n",
      "100% 3.42M/3.42M [00:00<00:00, 114MB/s]\n",
      "Downloading UnDamaged_train_Beams.npy.zip to /content\n",
      " 30% 5.00M/16.4M [00:00<00:01, 7.97MB/s]\n",
      "100% 16.4M/16.4M [00:00<00:00, 22.5MB/s]\n",
      "Downloading yTest_buildings.npy to /content\n",
      "  0% 0.00/580 [00:00<?, ?B/s]\n",
      "100% 580/580 [00:00<00:00, 472kB/s]\n",
      "Downloading UnDamaged_train_Columns.npy.zip to /content\n",
      " 66% 9.00M/13.5M [00:00<00:00, 11.5MB/s]\n",
      "100% 13.5M/13.5M [00:00<00:00, 18.5MB/s]\n",
      "Downloading Xtest_Beams.npy.zip to /content\n",
      " 64% 5.00M/7.78M [00:00<00:00, 22.9MB/s]\n",
      "100% 7.78M/7.78M [00:00<00:00, 30.8MB/s]\n",
      "Downloading XTest_buildings.npy.zip to /content\n",
      " 99% 17.0M/17.2M [00:00<00:00, 22.6MB/s]\n",
      "100% 17.2M/17.2M [00:00<00:00, 23.4MB/s]\n",
      "Downloading Xtest_Columns.npy.zip to /content\n",
      " 89% 33.0M/37.1M [00:01<00:00, 18.9MB/s]\n",
      "100% 37.1M/37.1M [00:01<00:00, 30.7MB/s]\n",
      "Downloading XTest_walls.npy.zip to /content\n",
      " 44% 11.0M/25.1M [00:00<00:01, 11.2MB/s]\n",
      "100% 25.1M/25.1M [00:00<00:00, 32.2MB/s]\n",
      "Downloading Xtrain_Beams.npy.zip to /content\n",
      " 84% 23.0M/27.4M [00:00<00:00, 15.9MB/s]\n",
      "100% 27.4M/27.4M [00:00<00:00, 46.6MB/s]\n",
      "Downloading XTrain_buildings.npy.zip to /content\n",
      " 92% 106M/115M [00:03<00:00, 25.8MB/s]\n",
      "100% 115M/115M [00:03<00:00, 34.7MB/s]\n",
      "Downloading Xtrain_Columns.npy.zip to /content\n",
      " 95% 88.0M/92.5M [00:02<00:00, 32.3MB/s]\n",
      "100% 92.5M/92.5M [00:02<00:00, 42.7MB/s]\n",
      "Downloading XTrain_walls.npy.zip to /content\n",
      " 99% 73.0M/73.6M [00:02<00:00, 32.5MB/s]\n",
      "100% 73.6M/73.6M [00:02<00:00, 38.2MB/s]\n",
      "Downloading vgg16_weights_tf_dim_ordering_tf_kernels_notop.h5.zip to /content\n",
      " 79% 41.0M/52.2M [00:01<00:00, 20.3MB/s]\n",
      "100% 52.2M/52.2M [00:01<00:00, 38.4MB/s]\n",
      "Downloading yTrain_UnDamaged_walls.npy to /content\n",
      "  0% 0.00/672 [00:00<?, ?B/s]\n",
      "100% 672/672 [00:00<00:00, 681kB/s]\n"
     ]
    }
   ],
   "source": [
    "!kaggle competitions download -c buildnet"
   ]
  },
  {
   "cell_type": "code",
   "execution_count": 5,
   "metadata": {
    "colab": {
     "base_uri": "https://localhost:8080/",
     "height": 782
    },
    "colab_type": "code",
    "executionInfo": {
     "elapsed": 5260,
     "status": "ok",
     "timestamp": 1550829227361,
     "user": {
      "displayName": "Harish Mulchandani",
      "photoUrl": "https://lh6.googleusercontent.com/-06QAT24CkOg/AAAAAAAAAAI/AAAAAAAAACI/g52CnYOWAF8/s64/photo.jpg",
      "userId": "09422167658826337403"
     },
     "user_tz": -330
    },
    "id": "3fsvgdUBNH_c",
    "outputId": "9f32f39d-eefd-4545-c860-efae6cfc1bc0"
   },
   "outputs": [
    {
     "name": "stdout",
     "output_type": "stream",
     "text": [
      "Damaged_test_Beams.npy.zip\n",
      "Damaged_test_Columns.npy.zip\n",
      "Damaged_test_walls.npy.zip\n",
      "Damaged_train_Beams.npy.zip\n",
      "Damaged_train_Columns.npy.zip\n",
      "Damaged_train_walls.npy.zip\n",
      "inception_v3_weights_tf_dim_ordering_tf_kernels_notop.h5.zip\n",
      "kaggle.json\n",
      "resnet50_weights_tf_dim_ordering_tf_kernels_notop.h5.zip\n",
      "sample_data\n",
      "UnDamaged_test_Beams.npy.zip\n",
      "UnDamaged_test_Columns.npy.zip\n",
      "UnDamaged_test_walls.npy.zip\n",
      "UnDamaged_train_Beams.npy.zip\n",
      "UnDamaged_train_Columns.npy.zip\n",
      "UnDamaged_train_walls.npy.zip\n",
      "vgg16_weights_tf_dim_ordering_tf_kernels_notop.h5.zip\n",
      "Xtest_Beams.npy.zip\n",
      "XTest_buildings.npy.zip\n",
      "Xtest_Columns.npy.zip\n",
      "XTest_walls.npy.zip\n",
      "Xtrain_Beams.npy.zip\n",
      "XTrain_buildings.npy.zip\n",
      "Xtrain_Columns.npy.zip\n",
      "XTrain_walls.npy.zip\n",
      "yTest_Beams.npy\n",
      "yTest_buildings.npy\n",
      "yTest_Columns.npy\n",
      "yTest_Damaged_Beams.npy\n",
      "yTest_Damaged_columns.npy\n",
      "yTest_Damaged_walls.npy\n",
      "yTest_UnDamaged_Beams.npy\n",
      "yTest_UnDamaged_columns.npy\n",
      "yTest_UnDamaged_walls.npy\n",
      "yTest_walls.npy\n",
      "yTrain_Beams.npy\n",
      "yTrain_buildings.npy\n",
      "yTrain_Columns.npy\n",
      "yTrain_Damaged_Beams.npy\n",
      "yTrain_Damaged_columns.npy\n",
      "yTrain_Damaged_walls.npy\n",
      "yTrain_UnDamaged_Beams.npy\n",
      "yTrain_UnDamaged_columns.npy\n",
      "yTrain_UnDamaged_walls.npy\n",
      "yTrain_walls.npy\n"
     ]
    }
   ],
   "source": [
    "!ls"
   ]
  },
  {
   "cell_type": "code",
   "execution_count": 6,
   "metadata": {
    "colab": {
     "base_uri": "https://localhost:8080/",
     "height": 153
    },
    "colab_type": "code",
    "executionInfo": {
     "elapsed": 21326,
     "status": "ok",
     "timestamp": 1550829259357,
     "user": {
      "displayName": "Harish Mulchandani",
      "photoUrl": "https://lh6.googleusercontent.com/-06QAT24CkOg/AAAAAAAAAAI/AAAAAAAAACI/g52CnYOWAF8/s64/photo.jpg",
      "userId": "09422167658826337403"
     },
     "user_tz": -330
    },
    "id": "cdybh14MNO1b",
    "outputId": "11e3610b-2a14-44f9-ee24-d04c5ee420bc"
   },
   "outputs": [
    {
     "name": "stdout",
     "output_type": "stream",
     "text": [
      "Archive:  UnDamaged_test_Columns.npy.zip\n",
      "  inflating: UnDamaged_test_Columns.npy  \n",
      "Archive:  UnDamaged_train_Columns.npy.zip\n",
      "  inflating: UnDamaged_train_Columns.npy  \n",
      "Archive:  Damaged_test_Columns.npy.zip\n",
      "  inflating: Damaged_test_Columns.npy  \n",
      "Archive:  Damaged_train_Columns.npy.zip\n",
      "  inflating: Damaged_train_Columns.npy  \n"
     ]
    }
   ],
   "source": [
    "!unzip UnDamaged_test_Columns.npy.zip\n",
    "!unzip UnDamaged_train_Columns.npy.zip\n",
    "!unzip Damaged_test_Columns.npy.zip\n",
    "!unzip Damaged_train_Columns.npy.zip"
   ]
  },
  {
   "cell_type": "code",
   "execution_count": 8,
   "metadata": {
    "colab": {
     "base_uri": "https://localhost:8080/",
     "height": 153
    },
    "colab_type": "code",
    "executionInfo": {
     "elapsed": 1541,
     "status": "ok",
     "timestamp": 1550834263947,
     "user": {
      "displayName": "Harish Mulchandani",
      "photoUrl": "https://lh6.googleusercontent.com/-06QAT24CkOg/AAAAAAAAAAI/AAAAAAAAACI/g52CnYOWAF8/s64/photo.jpg",
      "userId": "09422167658826337403"
     },
     "user_tz": -330
    },
    "id": "cwpT1GqSNdAM",
    "outputId": "f02e2b87-e453-418d-9e6f-25f8c0a64f16"
   },
   "outputs": [
    {
     "name": "stdout",
     "output_type": "stream",
     "text": [
      "(554, 224, 224, 3)\n",
      "(105, 224, 224, 3)\n",
      "(238, 224, 224, 3)\n",
      "(29, 224, 224, 3)\n",
      "(554,)\n",
      "(105,)\n",
      "(238,)\n",
      "(29,)\n"
     ]
    }
   ],
   "source": [
    "import numpy as np\n",
    "X1 = np.load('Damaged_train_Columns.npy')\n",
    "X2 = np.load('UnDamaged_train_Columns.npy')\n",
    "X3 = np.load('Damaged_test_Columns.npy')\n",
    "X4 = np.load('UnDamaged_test_Columns.npy')\n",
    "y1 = np.load('yTrain_Damaged_columns.npy')\n",
    "y2 = np.load('yTrain_UnDamaged_columns.npy')\n",
    "y3 = np.load('yTest_Damaged_columns.npy')\n",
    "y4 = np.load('yTest_UnDamaged_columns.npy')\n",
    "print(X1.shape)\n",
    "print(X2.shape)\n",
    "print(X3.shape)\n",
    "print(X4.shape)\n",
    "print(y1.shape)\n",
    "print(y2.shape)\n",
    "print(y3.shape)\n",
    "print(y4.shape)\n"
   ]
  },
  {
   "cell_type": "code",
   "execution_count": 9,
   "metadata": {
    "colab": {
     "base_uri": "https://localhost:8080/",
     "height": 357
    },
    "colab_type": "code",
    "executionInfo": {
     "elapsed": 1746,
     "status": "ok",
     "timestamp": 1550834269700,
     "user": {
      "displayName": "Harish Mulchandani",
      "photoUrl": "https://lh6.googleusercontent.com/-06QAT24CkOg/AAAAAAAAAAI/AAAAAAAAACI/g52CnYOWAF8/s64/photo.jpg",
      "userId": "09422167658826337403"
     },
     "user_tz": -330
    },
    "id": "vrwtj1uIOERb",
    "outputId": "6e9e9697-abcc-48eb-9ee5-10e868b6c935"
   },
   "outputs": [
    {
     "name": "stdout",
     "output_type": "stream",
     "text": [
      "[1 1 1 1 1 1 1 1 1 1 1 1 1 1 1 1 1 1 1 1 1 1 1 1 1 1 1 1 1 1 1 1 1 1 1 1 1\n",
      " 1 1 1 1 1 1 1 1 1 1 1 1 1 1 1 1 1 1 1 1 1 1 1 1 1 1 1 1 1 1 1 1 1 1 1 1 1\n",
      " 1 1 1 1 1 1 1 1 1 1 1 1 1 1 1 1 1 1 1 1 1 1 1 1 1 1 1 1 1 1 1 1 1 1 1 1 1\n",
      " 1 1 1 1 1 1 1 1 1 1 1 1 1 1 1 1 1 1 1 1 1 1 1 1 1 1 1 1 1 1 1 1 1 1 1 1 1\n",
      " 1 1 1 1 1 1 1 1 1 1 1 1 1 1 1 1 1 1 1 1 1 1 1 1 1 1 1 1 1 1 1 1 1 1 1 1 1\n",
      " 1 1 1 1 1 1 1 1 1 1 1 1 1 1 1 1 1 1 1 1 1 1 1 1 1 1 1 1 1 1 1 1 1 1 1 1 1\n",
      " 1 1 1 1 1 1 1 1 1 1 1 1 1 1 1 1 1 1 1 1 1 1 1 1 1 1 1 1 1 1 1 1 1 1 1 1 1\n",
      " 1 1 1 1 1 1 1 1 1 1 1 1 1 1 1 1 1 1 1 1 1 1 1 1 1 1 1 1 1 1 1 1 1 1 1 1 1\n",
      " 1 1 1 1 1 1 1 1 1 1 1 1 1 1 1 1 1 1 1 1 1 1 1 1 1 1 1 1 1 1 1 1 1 1 1 1 1\n",
      " 1 1 1 1 1 1 1 1 1 1 1 1 1 1 1 1 1 1 1 1 1 1 1 1 1 1 1 1 1 1 1 1 1 1 1 1 1\n",
      " 1 1 1 1 1 1 1 1 1 1 1 1 1 1 1 1 1 1 1 1 1 1 1 1 1 1 1 1 1 1 1 1 1 1 1 1 1\n",
      " 1 1 1 1 1 1 1 1 1 1 1 1 1 1 1 1 1 1 1 1 1 1 1 1 1 1 1 1 1 1 1 1 1 1 1 1 1\n",
      " 1 1 1 1 1 1 1 1 1 1 1 1 1 1 1 1 1 1 1 1 1 1 1 1 1 1 1 1 1 1 1 1 1 1 1 1 1\n",
      " 1 1 1 1 1 1 1 1 1 1 1 1 1 1 1 1 1 1 1 1 1 1 1 1 1 1 1 1 1 1 1 1 1 1 1 1 1\n",
      " 1 1 1 1 1 1 1 1 1 1 1 1 1 1 1 1 1 1 1 1 1 1 1 1 1 1 1 1 1 1 1 1 1 1 1 1]\n",
      " \n",
      "[0 0 0 0 0 0 0 0 0 0 0 0 0 0 0 0 0 0 0 0 0 0 0 0 0 0 0 0 0 0 0 0 0 0 0 0 0\n",
      " 0 0 0 0 0 0 0 0 0 0 0 0 0 0 0 0 0 0 0 0 0 0 0 0 0 0 0 0 0 0 0 0 0 0 0 0 0\n",
      " 0 0 0 0 0 0 0 0 0 0 0 0 0 0 0 0 0 0 0 0 0 0 0 0 0 0 0 0 0 0 0]\n",
      " \n"
     ]
    }
   ],
   "source": [
    "print(y1)\n",
    "print(\" \")\n",
    "print(y2)\n",
    "print(\" \")\n"
   ]
  },
  {
   "cell_type": "code",
   "execution_count": 10,
   "metadata": {
    "colab": {
     "base_uri": "https://localhost:8080/",
     "height": 85
    },
    "colab_type": "code",
    "executionInfo": {
     "elapsed": 1654,
     "status": "ok",
     "timestamp": 1550834274623,
     "user": {
      "displayName": "Harish Mulchandani",
      "photoUrl": "https://lh6.googleusercontent.com/-06QAT24CkOg/AAAAAAAAAAI/AAAAAAAAACI/g52CnYOWAF8/s64/photo.jpg",
      "userId": "09422167658826337403"
     },
     "user_tz": -330
    },
    "id": "oLgY92dBN3HT",
    "outputId": "16befe07-61f0-4f0f-ee9d-890ac7865c53"
   },
   "outputs": [
    {
     "name": "stdout",
     "output_type": "stream",
     "text": [
      "(554, 2)\n",
      "(105, 2)\n",
      "(238, 2)\n",
      "(29, 2)\n"
     ]
    }
   ],
   "source": [
    "def y_out(y, num_classes = 2):\n",
    "  y1 = np.zeros((y.shape[0],num_classes))\n",
    "  for i in range(len(y)):\n",
    "    y1[i,y[i]] = 1\n",
    "  \n",
    "  return y1\n",
    "\n",
    "y1 = y_out(y1)\n",
    "y2 = y_out(y2)\n",
    "y3 = y_out(y3)\n",
    "y4 = y_out(y4)\n",
    "\n",
    "print(y1.shape)\n",
    "print(y2.shape)\n",
    "print(y3.shape)\n",
    "print(y4.shape)"
   ]
  },
  {
   "cell_type": "code",
   "execution_count": 11,
   "metadata": {
    "colab": {
     "base_uri": "https://localhost:8080/",
     "height": 6528
    },
    "colab_type": "code",
    "executionInfo": {
     "elapsed": 1698,
     "status": "ok",
     "timestamp": 1550834278440,
     "user": {
      "displayName": "Harish Mulchandani",
      "photoUrl": "https://lh6.googleusercontent.com/-06QAT24CkOg/AAAAAAAAAAI/AAAAAAAAACI/g52CnYOWAF8/s64/photo.jpg",
      "userId": "09422167658826337403"
     },
     "user_tz": -330
    },
    "id": "KHNY1O-ZONEE",
    "outputId": "99003b79-1bc9-4cfe-d85f-e37e0408e521"
   },
   "outputs": [
    {
     "name": "stdout",
     "output_type": "stream",
     "text": [
      "[[0. 1.]\n",
      " [0. 1.]\n",
      " [0. 1.]\n",
      " ...\n",
      " [0. 1.]\n",
      " [0. 1.]\n",
      " [0. 1.]]\n",
      " \n",
      "[[1. 0.]\n",
      " [1. 0.]\n",
      " [1. 0.]\n",
      " [1. 0.]\n",
      " [1. 0.]\n",
      " [1. 0.]\n",
      " [1. 0.]\n",
      " [1. 0.]\n",
      " [1. 0.]\n",
      " [1. 0.]\n",
      " [1. 0.]\n",
      " [1. 0.]\n",
      " [1. 0.]\n",
      " [1. 0.]\n",
      " [1. 0.]\n",
      " [1. 0.]\n",
      " [1. 0.]\n",
      " [1. 0.]\n",
      " [1. 0.]\n",
      " [1. 0.]\n",
      " [1. 0.]\n",
      " [1. 0.]\n",
      " [1. 0.]\n",
      " [1. 0.]\n",
      " [1. 0.]\n",
      " [1. 0.]\n",
      " [1. 0.]\n",
      " [1. 0.]\n",
      " [1. 0.]\n",
      " [1. 0.]\n",
      " [1. 0.]\n",
      " [1. 0.]\n",
      " [1. 0.]\n",
      " [1. 0.]\n",
      " [1. 0.]\n",
      " [1. 0.]\n",
      " [1. 0.]\n",
      " [1. 0.]\n",
      " [1. 0.]\n",
      " [1. 0.]\n",
      " [1. 0.]\n",
      " [1. 0.]\n",
      " [1. 0.]\n",
      " [1. 0.]\n",
      " [1. 0.]\n",
      " [1. 0.]\n",
      " [1. 0.]\n",
      " [1. 0.]\n",
      " [1. 0.]\n",
      " [1. 0.]\n",
      " [1. 0.]\n",
      " [1. 0.]\n",
      " [1. 0.]\n",
      " [1. 0.]\n",
      " [1. 0.]\n",
      " [1. 0.]\n",
      " [1. 0.]\n",
      " [1. 0.]\n",
      " [1. 0.]\n",
      " [1. 0.]\n",
      " [1. 0.]\n",
      " [1. 0.]\n",
      " [1. 0.]\n",
      " [1. 0.]\n",
      " [1. 0.]\n",
      " [1. 0.]\n",
      " [1. 0.]\n",
      " [1. 0.]\n",
      " [1. 0.]\n",
      " [1. 0.]\n",
      " [1. 0.]\n",
      " [1. 0.]\n",
      " [1. 0.]\n",
      " [1. 0.]\n",
      " [1. 0.]\n",
      " [1. 0.]\n",
      " [1. 0.]\n",
      " [1. 0.]\n",
      " [1. 0.]\n",
      " [1. 0.]\n",
      " [1. 0.]\n",
      " [1. 0.]\n",
      " [1. 0.]\n",
      " [1. 0.]\n",
      " [1. 0.]\n",
      " [1. 0.]\n",
      " [1. 0.]\n",
      " [1. 0.]\n",
      " [1. 0.]\n",
      " [1. 0.]\n",
      " [1. 0.]\n",
      " [1. 0.]\n",
      " [1. 0.]\n",
      " [1. 0.]\n",
      " [1. 0.]\n",
      " [1. 0.]\n",
      " [1. 0.]\n",
      " [1. 0.]\n",
      " [1. 0.]\n",
      " [1. 0.]\n",
      " [1. 0.]\n",
      " [1. 0.]\n",
      " [1. 0.]\n",
      " [1. 0.]\n",
      " [1. 0.]]\n",
      " \n",
      "[[0. 1.]\n",
      " [0. 1.]\n",
      " [0. 1.]\n",
      " [0. 1.]\n",
      " [0. 1.]\n",
      " [0. 1.]\n",
      " [0. 1.]\n",
      " [0. 1.]\n",
      " [0. 1.]\n",
      " [0. 1.]\n",
      " [0. 1.]\n",
      " [0. 1.]\n",
      " [0. 1.]\n",
      " [0. 1.]\n",
      " [0. 1.]\n",
      " [0. 1.]\n",
      " [0. 1.]\n",
      " [0. 1.]\n",
      " [0. 1.]\n",
      " [0. 1.]\n",
      " [0. 1.]\n",
      " [0. 1.]\n",
      " [0. 1.]\n",
      " [0. 1.]\n",
      " [0. 1.]\n",
      " [0. 1.]\n",
      " [0. 1.]\n",
      " [0. 1.]\n",
      " [0. 1.]\n",
      " [0. 1.]\n",
      " [0. 1.]\n",
      " [0. 1.]\n",
      " [0. 1.]\n",
      " [0. 1.]\n",
      " [0. 1.]\n",
      " [0. 1.]\n",
      " [0. 1.]\n",
      " [0. 1.]\n",
      " [0. 1.]\n",
      " [0. 1.]\n",
      " [0. 1.]\n",
      " [0. 1.]\n",
      " [0. 1.]\n",
      " [0. 1.]\n",
      " [0. 1.]\n",
      " [0. 1.]\n",
      " [0. 1.]\n",
      " [0. 1.]\n",
      " [0. 1.]\n",
      " [0. 1.]\n",
      " [0. 1.]\n",
      " [0. 1.]\n",
      " [0. 1.]\n",
      " [0. 1.]\n",
      " [0. 1.]\n",
      " [0. 1.]\n",
      " [0. 1.]\n",
      " [0. 1.]\n",
      " [0. 1.]\n",
      " [0. 1.]\n",
      " [0. 1.]\n",
      " [0. 1.]\n",
      " [0. 1.]\n",
      " [0. 1.]\n",
      " [0. 1.]\n",
      " [0. 1.]\n",
      " [0. 1.]\n",
      " [0. 1.]\n",
      " [0. 1.]\n",
      " [0. 1.]\n",
      " [0. 1.]\n",
      " [0. 1.]\n",
      " [0. 1.]\n",
      " [0. 1.]\n",
      " [0. 1.]\n",
      " [0. 1.]\n",
      " [0. 1.]\n",
      " [0. 1.]\n",
      " [0. 1.]\n",
      " [0. 1.]\n",
      " [0. 1.]\n",
      " [0. 1.]\n",
      " [0. 1.]\n",
      " [0. 1.]\n",
      " [0. 1.]\n",
      " [0. 1.]\n",
      " [0. 1.]\n",
      " [0. 1.]\n",
      " [0. 1.]\n",
      " [0. 1.]\n",
      " [0. 1.]\n",
      " [0. 1.]\n",
      " [0. 1.]\n",
      " [0. 1.]\n",
      " [0. 1.]\n",
      " [0. 1.]\n",
      " [0. 1.]\n",
      " [0. 1.]\n",
      " [0. 1.]\n",
      " [0. 1.]\n",
      " [0. 1.]\n",
      " [0. 1.]\n",
      " [0. 1.]\n",
      " [0. 1.]\n",
      " [0. 1.]\n",
      " [0. 1.]\n",
      " [0. 1.]\n",
      " [0. 1.]\n",
      " [0. 1.]\n",
      " [0. 1.]\n",
      " [0. 1.]\n",
      " [0. 1.]\n",
      " [0. 1.]\n",
      " [0. 1.]\n",
      " [0. 1.]\n",
      " [0. 1.]\n",
      " [0. 1.]\n",
      " [0. 1.]\n",
      " [0. 1.]\n",
      " [0. 1.]\n",
      " [0. 1.]\n",
      " [0. 1.]\n",
      " [0. 1.]\n",
      " [0. 1.]\n",
      " [0. 1.]\n",
      " [0. 1.]\n",
      " [0. 1.]\n",
      " [0. 1.]\n",
      " [0. 1.]\n",
      " [0. 1.]\n",
      " [0. 1.]\n",
      " [0. 1.]\n",
      " [0. 1.]\n",
      " [0. 1.]\n",
      " [0. 1.]\n",
      " [0. 1.]\n",
      " [0. 1.]\n",
      " [0. 1.]\n",
      " [0. 1.]\n",
      " [0. 1.]\n",
      " [0. 1.]\n",
      " [0. 1.]\n",
      " [0. 1.]\n",
      " [0. 1.]\n",
      " [0. 1.]\n",
      " [0. 1.]\n",
      " [0. 1.]\n",
      " [0. 1.]\n",
      " [0. 1.]\n",
      " [0. 1.]\n",
      " [0. 1.]\n",
      " [0. 1.]\n",
      " [0. 1.]\n",
      " [0. 1.]\n",
      " [0. 1.]\n",
      " [0. 1.]\n",
      " [0. 1.]\n",
      " [0. 1.]\n",
      " [0. 1.]\n",
      " [0. 1.]\n",
      " [0. 1.]\n",
      " [0. 1.]\n",
      " [0. 1.]\n",
      " [0. 1.]\n",
      " [0. 1.]\n",
      " [0. 1.]\n",
      " [0. 1.]\n",
      " [0. 1.]\n",
      " [0. 1.]\n",
      " [0. 1.]\n",
      " [0. 1.]\n",
      " [0. 1.]\n",
      " [0. 1.]\n",
      " [0. 1.]\n",
      " [0. 1.]\n",
      " [0. 1.]\n",
      " [0. 1.]\n",
      " [0. 1.]\n",
      " [0. 1.]\n",
      " [0. 1.]\n",
      " [0. 1.]\n",
      " [0. 1.]\n",
      " [0. 1.]\n",
      " [0. 1.]\n",
      " [0. 1.]\n",
      " [0. 1.]\n",
      " [0. 1.]\n",
      " [0. 1.]\n",
      " [0. 1.]\n",
      " [0. 1.]\n",
      " [0. 1.]\n",
      " [0. 1.]\n",
      " [0. 1.]\n",
      " [0. 1.]\n",
      " [0. 1.]\n",
      " [0. 1.]\n",
      " [0. 1.]\n",
      " [0. 1.]\n",
      " [0. 1.]\n",
      " [0. 1.]\n",
      " [0. 1.]\n",
      " [0. 1.]\n",
      " [0. 1.]\n",
      " [0. 1.]\n",
      " [0. 1.]\n",
      " [0. 1.]\n",
      " [0. 1.]\n",
      " [0. 1.]\n",
      " [0. 1.]\n",
      " [0. 1.]\n",
      " [0. 1.]\n",
      " [0. 1.]\n",
      " [0. 1.]\n",
      " [0. 1.]\n",
      " [0. 1.]\n",
      " [0. 1.]\n",
      " [0. 1.]\n",
      " [0. 1.]\n",
      " [0. 1.]\n",
      " [0. 1.]\n",
      " [0. 1.]\n",
      " [0. 1.]\n",
      " [0. 1.]\n",
      " [0. 1.]\n",
      " [0. 1.]\n",
      " [0. 1.]\n",
      " [0. 1.]\n",
      " [0. 1.]\n",
      " [0. 1.]\n",
      " [0. 1.]\n",
      " [0. 1.]\n",
      " [0. 1.]\n",
      " [0. 1.]\n",
      " [0. 1.]\n",
      " [0. 1.]\n",
      " [0. 1.]\n",
      " [0. 1.]\n",
      " [0. 1.]]\n",
      " \n",
      "[[1. 0.]\n",
      " [1. 0.]\n",
      " [1. 0.]\n",
      " [1. 0.]\n",
      " [1. 0.]\n",
      " [1. 0.]\n",
      " [1. 0.]\n",
      " [1. 0.]\n",
      " [1. 0.]\n",
      " [1. 0.]\n",
      " [1. 0.]\n",
      " [1. 0.]\n",
      " [1. 0.]\n",
      " [1. 0.]\n",
      " [1. 0.]\n",
      " [1. 0.]\n",
      " [1. 0.]\n",
      " [1. 0.]\n",
      " [1. 0.]\n",
      " [1. 0.]\n",
      " [1. 0.]\n",
      " [1. 0.]\n",
      " [1. 0.]\n",
      " [1. 0.]\n",
      " [1. 0.]\n",
      " [1. 0.]\n",
      " [1. 0.]\n",
      " [1. 0.]\n",
      " [1. 0.]]\n",
      " \n"
     ]
    }
   ],
   "source": [
    "print(y1)\n",
    "print(\" \")\n",
    "print(y2)\n",
    "print(\" \")\n",
    "print(y3)\n",
    "print(\" \")\n",
    "print(y4)\n",
    "print(\" \")"
   ]
  },
  {
   "cell_type": "code",
   "execution_count": 12,
   "metadata": {
    "colab": {
     "base_uri": "https://localhost:8080/",
     "height": 85
    },
    "colab_type": "code",
    "executionInfo": {
     "elapsed": 1502,
     "status": "ok",
     "timestamp": 1550834283198,
     "user": {
      "displayName": "Harish Mulchandani",
      "photoUrl": "https://lh6.googleusercontent.com/-06QAT24CkOg/AAAAAAAAAAI/AAAAAAAAACI/g52CnYOWAF8/s64/photo.jpg",
      "userId": "09422167658826337403"
     },
     "user_tz": -330
    },
    "id": "cxk_B1KLOCAT",
    "outputId": "e23ac500-f41e-4da5-9143-a003b402844c"
   },
   "outputs": [
    {
     "name": "stdout",
     "output_type": "stream",
     "text": [
      "(659, 224, 224, 3)\n",
      "(659, 2)\n",
      "(267, 224, 224, 3)\n",
      "(267, 2)\n"
     ]
    }
   ],
   "source": [
    "X_train = np.concatenate((X1,X2), axis = 0)\n",
    "y_train = np.concatenate((y1,y2), axis = 0)\n",
    "X_val = np.concatenate((X3,X4), axis = 0)\n",
    "y_val = np.concatenate((y3,y4), axis = 0)\n",
    "print(X_train.shape)\n",
    "print(y_train.shape)\n",
    "print(X_val.shape)\n",
    "print(y_val.shape)"
   ]
  },
  {
   "cell_type": "code",
   "execution_count": 13,
   "metadata": {
    "colab": {
     "base_uri": "https://localhost:8080/",
     "height": 34
    },
    "colab_type": "code",
    "executionInfo": {
     "elapsed": 2967,
     "status": "ok",
     "timestamp": 1550834289978,
     "user": {
      "displayName": "Harish Mulchandani",
      "photoUrl": "https://lh6.googleusercontent.com/-06QAT24CkOg/AAAAAAAAAAI/AAAAAAAAACI/g52CnYOWAF8/s64/photo.jpg",
      "userId": "09422167658826337403"
     },
     "user_tz": -330
    },
    "id": "75w4XPQg9Mzf",
    "outputId": "b65450df-4c9c-4b86-96bb-883cd7c74791"
   },
   "outputs": [
    {
     "name": "stderr",
     "output_type": "stream",
     "text": [
      "Using TensorFlow backend.\n"
     ]
    }
   ],
   "source": [
    "from skimage.io import imread,imsave\n",
    "from keras.models import Model,load_model\n",
    "from keras.optimizers import SGD,Adam\n",
    "from keras.layers import *\n",
    "from skimage.util import pad,crop\n",
    "from skimage.transform import resize\n",
    "import os\n",
    "from sklearn.model_selection import train_test_split\n",
    "from keras.callbacks import ReduceLROnPlateau,ModelCheckpoint,CSVLogger,Callback,EarlyStopping\n",
    "import tensorflow as tf\n",
    "import keras.backend as K\n",
    "from keras.utils import plot_model\n",
    "import matplotlib.pyplot as plt"
   ]
  },
  {
   "cell_type": "code",
   "execution_count": 14,
   "metadata": {
    "colab": {
     "base_uri": "https://localhost:8080/",
     "height": 921
    },
    "colab_type": "code",
    "executionInfo": {
     "elapsed": 2502,
     "status": "ok",
     "timestamp": 1550834303454,
     "user": {
      "displayName": "Harish Mulchandani",
      "photoUrl": "https://lh6.googleusercontent.com/-06QAT24CkOg/AAAAAAAAAAI/AAAAAAAAACI/g52CnYOWAF8/s64/photo.jpg",
      "userId": "09422167658826337403"
     },
     "user_tz": -330
    },
    "id": "aVMgGDsF54c4",
    "outputId": "7a275626-13b0-407a-a840-dc033302dfe8"
   },
   "outputs": [
    {
     "name": "stdout",
     "output_type": "stream",
     "text": [
      "WARNING:tensorflow:From /usr/local/lib/python3.6/dist-packages/tensorflow/python/framework/op_def_library.py:263: colocate_with (from tensorflow.python.framework.ops) is deprecated and will be removed in a future version.\n",
      "Instructions for updating:\n",
      "Colocations handled automatically by placer.\n",
      "_________________________________________________________________\n",
      "Layer (type)                 Output Shape              Param #   \n",
      "=================================================================\n",
      "input_1 (InputLayer)         (None, 224, 224, 3)       0         \n",
      "_________________________________________________________________\n",
      "block1_conv1 (Conv2D)        (None, 224, 224, 64)      832       \n",
      "_________________________________________________________________\n",
      "block1_conv2 (Conv2D)        (None, 224, 224, 64)      16448     \n",
      "_________________________________________________________________\n",
      "block1_conv3 (Conv2D)        (None, 224, 224, 64)      16448     \n",
      "_________________________________________________________________\n",
      "block1_pool (MaxPooling2D)   (None, 112, 112, 64)      0         \n",
      "_________________________________________________________________\n",
      "block2_conv1 (Conv2D)        (None, 112, 112, 128)     32896     \n",
      "_________________________________________________________________\n",
      "block2_conv2 (Conv2D)        (None, 112, 112, 128)     65664     \n",
      "_________________________________________________________________\n",
      "block2_conv3 (Conv2D)        (None, 112, 112, 128)     65664     \n",
      "_________________________________________________________________\n",
      "block2_pool (MaxPooling2D)   (None, 56, 56, 128)       0         \n",
      "_________________________________________________________________\n",
      "block3_conv1 (Conv2D)        (None, 56, 56, 256)       131328    \n",
      "_________________________________________________________________\n",
      "block3_conv2 (Conv2D)        (None, 56, 56, 256)       262400    \n",
      "_________________________________________________________________\n",
      "block3_conv3 (Conv2D)        (None, 56, 56, 256)       262400    \n",
      "_________________________________________________________________\n",
      "block3_pool (MaxPooling2D)   (None, 28, 28, 256)       0         \n",
      "_________________________________________________________________\n",
      "block4_conv1 (Conv2D)        (None, 28, 28, 512)       524800    \n",
      "_________________________________________________________________\n",
      "block4_conv2 (Conv2D)        (None, 28, 28, 512)       1049088   \n",
      "_________________________________________________________________\n",
      "block4_conv3 (Conv2D)        (None, 28, 28, 512)       1049088   \n",
      "_________________________________________________________________\n",
      "block4_pool (MaxPooling2D)   (None, 14, 14, 512)       0         \n",
      "_________________________________________________________________\n",
      "block5_conv1 (Conv2D)        (None, 14, 14, 512)       1049088   \n",
      "_________________________________________________________________\n",
      "block5_conv2 (Conv2D)        (None, 14, 14, 512)       1049088   \n",
      "_________________________________________________________________\n",
      "block5_conv3 (Conv2D)        (None, 14, 14, 512)       1049088   \n",
      "_________________________________________________________________\n",
      "block5_pool (MaxPooling2D)   (None, 7, 7, 512)         0         \n",
      "=================================================================\n",
      "Total params: 6,624,320\n",
      "Trainable params: 6,624,320\n",
      "Non-trainable params: 0\n",
      "_________________________________________________________________\n"
     ]
    }
   ],
   "source": [
    "img_rows = 224\n",
    "img_cols = 224\n",
    "num_channels = 3\n",
    "inputs = Input((img_rows, img_cols, num_channels))\n",
    "\n",
    "x = Conv2D(64, (2,2) , activation = 'relu', padding = 'same', name = 'block1_conv1')(inputs)\n",
    "x = Conv2D(64, (2,2), activation = 'relu', padding = 'same', name = 'block1_conv2')(x)\n",
    "x = Conv2D(64, (2,2), activation = 'relu', padding = 'same', name = 'block1_conv3')(x)\n",
    "#x = Conv2D(64, (3,3), activation = 'relu', padding = 'same', name = 'block1_conv4')(x)\n",
    "x = MaxPooling2D((2, 2), strides = (2, 2), name = 'block1_pool')(x)\n",
    "\n",
    "x = Conv2D(128, (2,2), activation = 'relu', padding = 'same', name = 'block2_conv1')(x)\n",
    "x = Conv2D(128, (2,2), activation = 'relu', padding = 'same', name = 'block2_conv2')(x)\n",
    "x = Conv2D(128, (2,2), activation = 'relu', padding = 'same', name = 'block2_conv3')(x)\n",
    "#x = Conv2D(128, (3,3), activation = 'relu', padding = 'same', name = 'block2_conv4')(x)\n",
    "x = MaxPooling2D((2, 2), strides = (2, 2), name = 'block2_pool')(x)\n",
    "\n",
    "x = Conv2D(256, (2,2), activation = 'relu', padding = 'same', name = 'block3_conv1')(x)\n",
    "x = Conv2D(256, (2,2), activation = 'relu', padding = 'same', name = 'block3_conv2')(x)\n",
    "x = Conv2D(256, (2,2), activation = 'relu', padding = 'same', name = 'block3_conv3')(x)\n",
    "#x = Conv2D(256, (3,3), activation = 'relu', padding = 'same', name = 'block3_conv4')(x)\n",
    "x = MaxPooling2D((2, 2), strides = (2, 2), name = 'block3_pool')(x)\n",
    "\n",
    "x = Conv2D(512, (2,2), activation = 'relu', padding = 'same', name = 'block4_conv1')(x)\n",
    "x = Conv2D(512, (2,2), activation = 'relu', padding = 'same', name = 'block4_conv2')(x)\n",
    "x = Conv2D(512, (2,2), activation = 'relu', padding = 'same', name = 'block4_conv3')(x)\n",
    "#x = Conv2D(512, (3,3), activation = 'relu', padding = 'same', name = 'block4_conv4')(x)\n",
    "x = MaxPooling2D((2, 2), strides = (2, 2), name = 'block4_pool')(x)\n",
    "\n",
    "x = Conv2D(512, (2,2), activation = 'relu', padding = 'same', name = 'block5_conv1')(x)\n",
    "x = Conv2D(512, (2,2), activation = 'relu', padding = 'same', name = 'block5_conv2')(x)\n",
    "x = Conv2D(512, (2,2), activation = 'relu', padding = 'same', name = 'block5_conv3')(x)\n",
    "#x = Conv2D(512, (3,3), activation = 'relu', padding = 'same', name = 'block5_conv4')(x)\n",
    "x = MaxPooling2D((2, 2), strides = (2, 2), name = 'block5_pool')(x)\n",
    "\n",
    "model11 = Model(inputs = inputs, outputs = x)\n",
    "model11.summary()"
   ]
  },
  {
   "cell_type": "code",
   "execution_count": 0,
   "metadata": {
    "colab": {},
    "colab_type": "code",
    "id": "76efetim7e0Q"
   },
   "outputs": [],
   "source": [
    "import keras\n",
    "import numpy as np\n",
    "import matplotlib.pyplot as plt\n",
    "from keras import layers\n",
    "from keras import optimizers\n",
    "from keras.layers import Dense, Flatten, Activation, Dropout\n",
    "from keras import applications\n",
    "from keras.applications import VGG16, InceptionV3, ResNet50"
   ]
  },
  {
   "cell_type": "code",
   "execution_count": 47,
   "metadata": {
    "colab": {
     "base_uri": "https://localhost:8080/",
     "height": 782
    },
    "colab_type": "code",
    "executionInfo": {
     "elapsed": 6193,
     "status": "ok",
     "timestamp": 1550771244065,
     "user": {
      "displayName": "Harish Mulchandani",
      "photoUrl": "https://lh6.googleusercontent.com/-06QAT24CkOg/AAAAAAAAAAI/AAAAAAAAACI/g52CnYOWAF8/s64/photo.jpg",
      "userId": "09422167658826337403"
     },
     "user_tz": -330
    },
    "id": "myEzCyJmQ19S",
    "outputId": "32977613-5469-47e6-f894-37d6d460f2b4"
   },
   "outputs": [
    {
     "name": "stdout",
     "output_type": "stream",
     "text": [
      "_________________________________________________________________\n",
      "Layer (type)                 Output Shape              Param #   \n",
      "=================================================================\n",
      "input_7 (InputLayer)         (None, 224, 224, 3)       0         \n",
      "_________________________________________________________________\n",
      "block1_conv1 (Conv2D)        (None, 224, 224, 64)      1792      \n",
      "_________________________________________________________________\n",
      "block1_conv2 (Conv2D)        (None, 224, 224, 64)      36928     \n",
      "_________________________________________________________________\n",
      "block1_pool (MaxPooling2D)   (None, 112, 112, 64)      0         \n",
      "_________________________________________________________________\n",
      "block2_conv1 (Conv2D)        (None, 112, 112, 128)     73856     \n",
      "_________________________________________________________________\n",
      "block2_conv2 (Conv2D)        (None, 112, 112, 128)     147584    \n",
      "_________________________________________________________________\n",
      "block2_pool (MaxPooling2D)   (None, 56, 56, 128)       0         \n",
      "_________________________________________________________________\n",
      "block3_conv1 (Conv2D)        (None, 56, 56, 256)       295168    \n",
      "_________________________________________________________________\n",
      "block3_conv2 (Conv2D)        (None, 56, 56, 256)       590080    \n",
      "_________________________________________________________________\n",
      "block3_conv3 (Conv2D)        (None, 56, 56, 256)       590080    \n",
      "_________________________________________________________________\n",
      "block3_pool (MaxPooling2D)   (None, 28, 28, 256)       0         \n",
      "_________________________________________________________________\n",
      "block4_conv1 (Conv2D)        (None, 28, 28, 512)       1180160   \n",
      "_________________________________________________________________\n",
      "block4_conv2 (Conv2D)        (None, 28, 28, 512)       2359808   \n",
      "_________________________________________________________________\n",
      "block4_conv3 (Conv2D)        (None, 28, 28, 512)       2359808   \n",
      "_________________________________________________________________\n",
      "block4_pool (MaxPooling2D)   (None, 14, 14, 512)       0         \n",
      "_________________________________________________________________\n",
      "block5_conv1 (Conv2D)        (None, 14, 14, 512)       2359808   \n",
      "_________________________________________________________________\n",
      "block5_conv2 (Conv2D)        (None, 14, 14, 512)       2359808   \n",
      "_________________________________________________________________\n",
      "block5_conv3 (Conv2D)        (None, 14, 14, 512)       2359808   \n",
      "_________________________________________________________________\n",
      "block5_pool (MaxPooling2D)   (None, 7, 7, 512)         0         \n",
      "=================================================================\n",
      "Total params: 14,714,688\n",
      "Trainable params: 14,714,688\n",
      "Non-trainable params: 0\n",
      "_________________________________________________________________\n"
     ]
    }
   ],
   "source": [
    "import keras\n",
    "import numpy as np\n",
    "import matplotlib.pyplot as plt\n",
    "from keras import layers\n",
    "from keras import optimizers\n",
    "from keras.layers import Dense, Flatten, Activation, Dropout\n",
    "from keras import applications\n",
    "from keras.applications import VGG16, InceptionV3, ResNet50\n",
    "\n",
    "image_size = 224\n",
    "\n",
    "vgg_conv = VGG16(weights = 'imagenet', include_top = False, input_shape=(image_size, image_size, 3))\n",
    "\n",
    "vgg_conv.summary()"
   ]
  },
  {
   "cell_type": "code",
   "execution_count": 17,
   "metadata": {
    "colab": {
     "base_uri": "https://localhost:8080/",
     "height": 1054
    },
    "colab_type": "code",
    "executionInfo": {
     "elapsed": 2732,
     "status": "ok",
     "timestamp": 1550834346891,
     "user": {
      "displayName": "Harish Mulchandani",
      "photoUrl": "https://lh6.googleusercontent.com/-06QAT24CkOg/AAAAAAAAAAI/AAAAAAAAACI/g52CnYOWAF8/s64/photo.jpg",
      "userId": "09422167658826337403"
     },
     "user_tz": -330
    },
    "id": "qX_sOYPLQ-JC",
    "outputId": "74929f73-e0d5-4b60-fa14-de2476759f39"
   },
   "outputs": [
    {
     "name": "stdout",
     "output_type": "stream",
     "text": [
      "_________________________________________________________________\n",
      "Layer (type)                 Output Shape              Param #   \n",
      "=================================================================\n",
      "input_1 (InputLayer)         (None, 224, 224, 3)       0         \n",
      "_________________________________________________________________\n",
      "block1_conv1 (Conv2D)        (None, 224, 224, 64)      832       \n",
      "_________________________________________________________________\n",
      "block1_conv2 (Conv2D)        (None, 224, 224, 64)      16448     \n",
      "_________________________________________________________________\n",
      "block1_conv3 (Conv2D)        (None, 224, 224, 64)      16448     \n",
      "_________________________________________________________________\n",
      "block1_pool (MaxPooling2D)   (None, 112, 112, 64)      0         \n",
      "_________________________________________________________________\n",
      "block2_conv1 (Conv2D)        (None, 112, 112, 128)     32896     \n",
      "_________________________________________________________________\n",
      "block2_conv2 (Conv2D)        (None, 112, 112, 128)     65664     \n",
      "_________________________________________________________________\n",
      "block2_conv3 (Conv2D)        (None, 112, 112, 128)     65664     \n",
      "_________________________________________________________________\n",
      "block2_pool (MaxPooling2D)   (None, 56, 56, 128)       0         \n",
      "_________________________________________________________________\n",
      "block3_conv1 (Conv2D)        (None, 56, 56, 256)       131328    \n",
      "_________________________________________________________________\n",
      "block3_conv2 (Conv2D)        (None, 56, 56, 256)       262400    \n",
      "_________________________________________________________________\n",
      "block3_conv3 (Conv2D)        (None, 56, 56, 256)       262400    \n",
      "_________________________________________________________________\n",
      "block3_pool (MaxPooling2D)   (None, 28, 28, 256)       0         \n",
      "_________________________________________________________________\n",
      "block4_conv1 (Conv2D)        (None, 28, 28, 512)       524800    \n",
      "_________________________________________________________________\n",
      "block4_conv2 (Conv2D)        (None, 28, 28, 512)       1049088   \n",
      "_________________________________________________________________\n",
      "block4_conv3 (Conv2D)        (None, 28, 28, 512)       1049088   \n",
      "_________________________________________________________________\n",
      "block4_pool (MaxPooling2D)   (None, 14, 14, 512)       0         \n",
      "_________________________________________________________________\n",
      "block5_conv1 (Conv2D)        (None, 14, 14, 512)       1049088   \n",
      "_________________________________________________________________\n",
      "block5_conv2 (Conv2D)        (None, 14, 14, 512)       1049088   \n",
      "_________________________________________________________________\n",
      "block5_conv3 (Conv2D)        (None, 14, 14, 512)       1049088   \n",
      "_________________________________________________________________\n",
      "block5_pool (MaxPooling2D)   (None, 7, 7, 512)         0         \n",
      "_________________________________________________________________\n",
      "flatten_2 (Flatten)          (None, 25088)             0         \n",
      "_________________________________________________________________\n",
      "dense_4 (Dense)              (None, 512)               12845568  \n",
      "_________________________________________________________________\n",
      "dropout_3 (Dropout)          (None, 512)               0         \n",
      "_________________________________________________________________\n",
      "dense_5 (Dense)              (None, 256)               131328    \n",
      "_________________________________________________________________\n",
      "dropout_4 (Dropout)          (None, 256)               0         \n",
      "_________________________________________________________________\n",
      "dense_6 (Dense)              (None, 2)                 514       \n",
      "=================================================================\n",
      "Total params: 19,601,730\n",
      "Trainable params: 19,601,730\n",
      "Non-trainable params: 0\n",
      "_________________________________________________________________\n"
     ]
    }
   ],
   "source": [
    "from keras.models import Sequential, Model, load_model\n",
    "\n",
    "#vgg_conv.load_weights(weights_path)\n",
    "\n",
    "x = Flatten()(model11.get_layer('block5_pool').output)\n",
    "x = Dense(512, activation='relu')(x)\n",
    "x = Dropout(0.5)(x)\n",
    "x = Dense(256, activation='relu')(x)\n",
    "x = Dropout(0.5)(x)\n",
    "x = Dense(2, activation='softmax')(x)\n",
    "\n",
    "model = Model(inputs = model11.input, outputs = x)\n",
    "model.compile(loss='categorical_crossentropy', optimizer = optimizers.Adam(lr=0.00005, beta_1=0.9, beta_2=0.999, epsilon=None, decay=0.0, amsgrad=False), metrics = ['accuracy'])\n",
    "\n",
    "model.summary()"
   ]
  },
  {
   "cell_type": "code",
   "execution_count": 18,
   "metadata": {
    "colab": {
     "base_uri": "https://localhost:8080/",
     "height": 2808
    },
    "colab_type": "code",
    "executionInfo": {
     "elapsed": 2718462,
     "status": "ok",
     "timestamp": 1550837068938,
     "user": {
      "displayName": "Harish Mulchandani",
      "photoUrl": "https://lh6.googleusercontent.com/-06QAT24CkOg/AAAAAAAAAAI/AAAAAAAAACI/g52CnYOWAF8/s64/photo.jpg",
      "userId": "09422167658826337403"
     },
     "user_tz": -330
    },
    "id": "xthqR_bwzvPC",
    "outputId": "d37aa40a-4a11-479c-b853-27a71fa73ddb"
   },
   "outputs": [
    {
     "name": "stdout",
     "output_type": "stream",
     "text": [
      "WARNING:tensorflow:From /usr/local/lib/python3.6/dist-packages/tensorflow/python/ops/math_ops.py:3066: to_int32 (from tensorflow.python.ops.math_ops) is deprecated and will be removed in a future version.\n",
      "Instructions for updating:\n",
      "Use tf.cast instead.\n",
      "Epoch 1/80\n",
      "32/32 [==============================] - 43s 1s/step - loss: 0.5412 - acc: 0.8359 - val_loss: 0.3955 - val_acc: 0.8914\n",
      "Epoch 2/80\n",
      "32/32 [==============================] - 36s 1s/step - loss: 0.4395 - acc: 0.8515 - val_loss: 0.3472 - val_acc: 0.8914\n",
      "Epoch 3/80\n",
      "32/32 [==============================] - 34s 1s/step - loss: 0.4753 - acc: 0.8276 - val_loss: 0.3523 - val_acc: 0.8914\n",
      "Epoch 4/80\n",
      "32/32 [==============================] - 34s 1s/step - loss: 0.4334 - acc: 0.8467 - val_loss: 0.3429 - val_acc: 0.8914\n",
      "Epoch 5/80\n",
      "32/32 [==============================] - 34s 1s/step - loss: 0.4480 - acc: 0.8341 - val_loss: 0.3394 - val_acc: 0.8914\n",
      "Epoch 6/80\n",
      "32/32 [==============================] - 34s 1s/step - loss: 0.4266 - acc: 0.8481 - val_loss: 0.3381 - val_acc: 0.8914\n",
      "Epoch 7/80\n",
      "32/32 [==============================] - 34s 1s/step - loss: 0.4284 - acc: 0.8528 - val_loss: 0.3364 - val_acc: 0.8914\n",
      "Epoch 8/80\n",
      "32/32 [==============================] - 34s 1s/step - loss: 0.4491 - acc: 0.8389 - val_loss: 0.3381 - val_acc: 0.8914\n",
      "Epoch 9/80\n",
      "32/32 [==============================] - 34s 1s/step - loss: 0.4640 - acc: 0.8263 - val_loss: 0.3384 - val_acc: 0.8914\n",
      "Epoch 10/80\n",
      "32/32 [==============================] - 34s 1s/step - loss: 0.4395 - acc: 0.8451 - val_loss: 0.3947 - val_acc: 0.8914\n",
      "Epoch 11/80\n",
      "32/32 [==============================] - 34s 1s/step - loss: 0.4433 - acc: 0.8342 - val_loss: 0.3347 - val_acc: 0.8914\n",
      "Epoch 12/80\n",
      "32/32 [==============================] - 34s 1s/step - loss: 0.4254 - acc: 0.8484 - val_loss: 0.3362 - val_acc: 0.8914\n",
      "Epoch 13/80\n",
      "32/32 [==============================] - 34s 1s/step - loss: 0.4466 - acc: 0.8357 - val_loss: 0.3533 - val_acc: 0.8914\n",
      "Epoch 14/80\n",
      "32/32 [==============================] - 34s 1s/step - loss: 0.4292 - acc: 0.8342 - val_loss: 0.4267 - val_acc: 0.8914\n",
      "Epoch 15/80\n",
      "32/32 [==============================] - 34s 1s/step - loss: 0.3970 - acc: 0.8639 - val_loss: 0.3284 - val_acc: 0.8914\n",
      "Epoch 16/80\n",
      "32/32 [==============================] - 34s 1s/step - loss: 0.4482 - acc: 0.8186 - val_loss: 0.3171 - val_acc: 0.8914\n",
      "Epoch 17/80\n",
      "32/32 [==============================] - 34s 1s/step - loss: 0.4229 - acc: 0.8463 - val_loss: 0.3248 - val_acc: 0.8914\n",
      "Epoch 18/80\n",
      "32/32 [==============================] - 34s 1s/step - loss: 0.4199 - acc: 0.8372 - val_loss: 0.3099 - val_acc: 0.8914\n",
      "Epoch 19/80\n",
      "32/32 [==============================] - 34s 1s/step - loss: 0.3806 - acc: 0.8558 - val_loss: 0.3326 - val_acc: 0.8914\n",
      "Epoch 20/80\n",
      "32/32 [==============================] - 34s 1s/step - loss: 0.4381 - acc: 0.8280 - val_loss: 0.3297 - val_acc: 0.8914\n",
      "Epoch 21/80\n",
      "32/32 [==============================] - 34s 1s/step - loss: 0.4048 - acc: 0.8420 - val_loss: 0.3027 - val_acc: 0.8914\n",
      "Epoch 22/80\n",
      "32/32 [==============================] - 34s 1s/step - loss: 0.3941 - acc: 0.8497 - val_loss: 0.3001 - val_acc: 0.8914\n",
      "Epoch 23/80\n",
      "32/32 [==============================] - 34s 1s/step - loss: 0.4129 - acc: 0.8294 - val_loss: 0.3066 - val_acc: 0.8914\n",
      "Epoch 24/80\n",
      "32/32 [==============================] - 34s 1s/step - loss: 0.3772 - acc: 0.8561 - val_loss: 0.3220 - val_acc: 0.8914\n",
      "Epoch 25/80\n",
      "32/32 [==============================] - 34s 1s/step - loss: 0.4137 - acc: 0.8280 - val_loss: 0.2988 - val_acc: 0.8914\n",
      "Epoch 26/80\n",
      "32/32 [==============================] - 34s 1s/step - loss: 0.4078 - acc: 0.8404 - val_loss: 0.3210 - val_acc: 0.8989\n",
      "Epoch 27/80\n",
      "32/32 [==============================] - 34s 1s/step - loss: 0.3715 - acc: 0.8589 - val_loss: 0.3065 - val_acc: 0.8989\n",
      "Epoch 28/80\n",
      "32/32 [==============================] - 34s 1s/step - loss: 0.3903 - acc: 0.8418 - val_loss: 0.3064 - val_acc: 0.8951\n",
      "Epoch 29/80\n",
      "32/32 [==============================] - 34s 1s/step - loss: 0.3721 - acc: 0.8388 - val_loss: 0.4045 - val_acc: 0.8127\n",
      "Epoch 30/80\n",
      "32/32 [==============================] - 34s 1s/step - loss: 0.3595 - acc: 0.8559 - val_loss: 0.2914 - val_acc: 0.8914\n",
      "Epoch 31/80\n",
      "32/32 [==============================] - 34s 1s/step - loss: 0.3450 - acc: 0.8526 - val_loss: 0.3544 - val_acc: 0.8352\n",
      "Epoch 32/80\n",
      "32/32 [==============================] - 34s 1s/step - loss: 0.3533 - acc: 0.8499 - val_loss: 0.3149 - val_acc: 0.9064\n",
      "Epoch 33/80\n",
      "32/32 [==============================] - 34s 1s/step - loss: 0.3895 - acc: 0.8451 - val_loss: 0.3248 - val_acc: 0.9101\n",
      "Epoch 34/80\n",
      "32/32 [==============================] - 34s 1s/step - loss: 0.3427 - acc: 0.8469 - val_loss: 0.2963 - val_acc: 0.8614\n",
      "Epoch 35/80\n",
      "32/32 [==============================] - 34s 1s/step - loss: 0.3299 - acc: 0.8545 - val_loss: 0.3041 - val_acc: 0.8539\n",
      "Epoch 36/80\n",
      "32/32 [==============================] - 34s 1s/step - loss: 0.3249 - acc: 0.8701 - val_loss: 0.3218 - val_acc: 0.8502\n",
      "Epoch 37/80\n",
      "32/32 [==============================] - 34s 1s/step - loss: 0.3269 - acc: 0.8483 - val_loss: 0.3115 - val_acc: 0.8876\n",
      "Epoch 38/80\n",
      "32/32 [==============================] - 34s 1s/step - loss: 0.3146 - acc: 0.8701 - val_loss: 0.3008 - val_acc: 0.8689\n",
      "Epoch 39/80\n",
      "32/32 [==============================] - 34s 1s/step - loss: 0.3112 - acc: 0.8590 - val_loss: 0.3002 - val_acc: 0.8577\n",
      "Epoch 40/80\n",
      "32/32 [==============================] - 34s 1s/step - loss: 0.2901 - acc: 0.8842 - val_loss: 0.3288 - val_acc: 0.8727\n",
      "Epoch 41/80\n",
      "32/32 [==============================] - 34s 1s/step - loss: 0.3569 - acc: 0.8357 - val_loss: 0.2719 - val_acc: 0.8914\n",
      "Epoch 42/80\n",
      "32/32 [==============================] - 34s 1s/step - loss: 0.3154 - acc: 0.8514 - val_loss: 0.2841 - val_acc: 0.8839\n",
      "Epoch 43/80\n",
      "32/32 [==============================] - 34s 1s/step - loss: 0.2827 - acc: 0.8858 - val_loss: 0.2747 - val_acc: 0.8764\n",
      "Epoch 44/80\n",
      "32/32 [==============================] - 34s 1s/step - loss: 0.2992 - acc: 0.8762 - val_loss: 0.2876 - val_acc: 0.8689\n",
      "Epoch 45/80\n",
      "32/32 [==============================] - 34s 1s/step - loss: 0.2664 - acc: 0.9013 - val_loss: 0.3679 - val_acc: 0.8240\n",
      "Epoch 46/80\n",
      "32/32 [==============================] - 34s 1s/step - loss: 0.3145 - acc: 0.8796 - val_loss: 0.2739 - val_acc: 0.8839\n",
      "Epoch 47/80\n",
      "32/32 [==============================] - 34s 1s/step - loss: 0.2430 - acc: 0.8904 - val_loss: 0.2838 - val_acc: 0.8876\n",
      "Epoch 48/80\n",
      "32/32 [==============================] - 34s 1s/step - loss: 0.2890 - acc: 0.8840 - val_loss: 0.2893 - val_acc: 0.8839\n",
      "Epoch 49/80\n",
      "32/32 [==============================] - 34s 1s/step - loss: 0.2330 - acc: 0.8997 - val_loss: 0.3585 - val_acc: 0.8727\n",
      "Epoch 50/80\n",
      "32/32 [==============================] - 34s 1s/step - loss: 0.2625 - acc: 0.8983 - val_loss: 0.2590 - val_acc: 0.9026\n",
      "Epoch 51/80\n",
      "32/32 [==============================] - 34s 1s/step - loss: 0.2395 - acc: 0.9029 - val_loss: 0.3087 - val_acc: 0.8914\n",
      "Epoch 52/80\n",
      "32/32 [==============================] - 34s 1s/step - loss: 0.2780 - acc: 0.8714 - val_loss: 0.3077 - val_acc: 0.8727\n",
      "Epoch 53/80\n",
      "32/32 [==============================] - 34s 1s/step - loss: 0.2468 - acc: 0.8872 - val_loss: 0.2983 - val_acc: 0.8914\n",
      "Epoch 54/80\n",
      "32/32 [==============================] - 34s 1s/step - loss: 0.2421 - acc: 0.8998 - val_loss: 0.3205 - val_acc: 0.9026\n",
      "Epoch 55/80\n",
      "32/32 [==============================] - 34s 1s/step - loss: 0.1942 - acc: 0.9155 - val_loss: 0.3291 - val_acc: 0.9064\n",
      "Epoch 56/80\n",
      "32/32 [==============================] - 34s 1s/step - loss: 0.2813 - acc: 0.8826 - val_loss: 0.3565 - val_acc: 0.8502\n",
      "Epoch 57/80\n",
      "32/32 [==============================] - 34s 1s/step - loss: 0.2236 - acc: 0.9044 - val_loss: 0.2953 - val_acc: 0.8914\n",
      "Epoch 58/80\n",
      "32/32 [==============================] - 34s 1s/step - loss: 0.2205 - acc: 0.9094 - val_loss: 0.3839 - val_acc: 0.8502\n",
      "Epoch 59/80\n",
      "32/32 [==============================] - 34s 1s/step - loss: 0.2376 - acc: 0.8935 - val_loss: 0.3713 - val_acc: 0.8464\n",
      "Epoch 60/80\n",
      "32/32 [==============================] - 34s 1s/step - loss: 0.2182 - acc: 0.9123 - val_loss: 0.2926 - val_acc: 0.8876\n",
      "Epoch 61/80\n",
      "32/32 [==============================] - 34s 1s/step - loss: 0.2261 - acc: 0.9109 - val_loss: 0.3326 - val_acc: 0.8914\n",
      "Epoch 62/80\n",
      "32/32 [==============================] - 34s 1s/step - loss: 0.2352 - acc: 0.9186 - val_loss: 0.3118 - val_acc: 0.8989\n",
      "Epoch 63/80\n",
      "32/32 [==============================] - 34s 1s/step - loss: 0.1861 - acc: 0.9280 - val_loss: 0.3424 - val_acc: 0.8539\n",
      "Epoch 64/80\n",
      "32/32 [==============================] - 34s 1s/step - loss: 0.1893 - acc: 0.9202 - val_loss: 0.3337 - val_acc: 0.8951\n",
      "Epoch 65/80\n",
      "32/32 [==============================] - 34s 1s/step - loss: 0.2096 - acc: 0.9171 - val_loss: 0.3464 - val_acc: 0.8464\n",
      "Epoch 66/80\n",
      "32/32 [==============================] - 34s 1s/step - loss: 0.1951 - acc: 0.9172 - val_loss: 0.3202 - val_acc: 0.8876\n",
      "Epoch 67/80\n",
      "32/32 [==============================] - 34s 1s/step - loss: 0.2058 - acc: 0.9078 - val_loss: 0.3483 - val_acc: 0.8764\n",
      "Epoch 68/80\n",
      "32/32 [==============================] - 34s 1s/step - loss: 0.1660 - acc: 0.9327 - val_loss: 0.2719 - val_acc: 0.8689\n",
      "Epoch 69/80\n",
      "32/32 [==============================] - 34s 1s/step - loss: 0.1792 - acc: 0.9281 - val_loss: 0.3577 - val_acc: 0.8652\n",
      "Epoch 70/80\n",
      "32/32 [==============================] - 34s 1s/step - loss: 0.1856 - acc: 0.9218 - val_loss: 0.5556 - val_acc: 0.8876\n",
      "Epoch 71/80\n",
      "32/32 [==============================] - 34s 1s/step - loss: 0.2459 - acc: 0.9170 - val_loss: 0.3622 - val_acc: 0.8839\n",
      "Epoch 72/80\n",
      "32/32 [==============================] - 34s 1s/step - loss: 0.1520 - acc: 0.9344 - val_loss: 0.5052 - val_acc: 0.8427\n",
      "Epoch 73/80\n",
      "32/32 [==============================] - 34s 1s/step - loss: 0.1504 - acc: 0.9312 - val_loss: 0.4534 - val_acc: 0.8240\n",
      "Epoch 74/80\n",
      "32/32 [==============================] - 34s 1s/step - loss: 0.2250 - acc: 0.9109 - val_loss: 0.3143 - val_acc: 0.8914\n",
      "Epoch 75/80\n",
      "32/32 [==============================] - 34s 1s/step - loss: 0.3234 - acc: 0.8562 - val_loss: 0.3040 - val_acc: 0.8689\n",
      "Epoch 76/80\n",
      "32/32 [==============================] - 34s 1s/step - loss: 0.2122 - acc: 0.9155 - val_loss: 0.3801 - val_acc: 0.8727\n",
      "Epoch 77/80\n",
      "32/32 [==============================] - 34s 1s/step - loss: 0.1914 - acc: 0.9217 - val_loss: 0.3475 - val_acc: 0.8539\n",
      "Epoch 78/80\n",
      "32/32 [==============================] - 34s 1s/step - loss: 0.1702 - acc: 0.9374 - val_loss: 0.3139 - val_acc: 0.8876\n",
      "Epoch 79/80\n",
      "32/32 [==============================] - 34s 1s/step - loss: 0.1759 - acc: 0.9230 - val_loss: 0.3693 - val_acc: 0.8989\n",
      "Epoch 80/80\n",
      "32/32 [==============================] - 34s 1s/step - loss: 0.1839 - acc: 0.9342 - val_loss: 0.4002 - val_acc: 0.8801\n"
     ]
    }
   ],
   "source": [
    "from keras.preprocessing.image import ImageDataGenerator\n",
    "from keras.callbacks import ModelCheckpoint\n",
    "\n",
    "batch_size = 20\n",
    "epochs = 80\n",
    "\n",
    "train_datagen = ImageDataGenerator(rotation_range = 10, width_shift_range = 0.1, height_shift_range = 0.1, horizontal_flip=True)\n",
    "\n",
    "history = model.fit_generator(train_datagen.flow(X_train, y_train, batch_size = batch_size),\n",
    "                             steps_per_epoch = X_train.shape[0] // batch_size,\n",
    "                             epochs = epochs,\n",
    "                             validation_data = (X_val, y_val),\n",
    "                             callbacks=[ModelCheckpoint('VGG16-transferlearning.model', monitor='val_acc', save_best_only=True)])"
   ]
  },
  {
   "cell_type": "code",
   "execution_count": 19,
   "metadata": {
    "colab": {
     "base_uri": "https://localhost:8080/",
     "height": 803
    },
    "colab_type": "code",
    "executionInfo": {
     "elapsed": 3565,
     "status": "ok",
     "timestamp": 1550847189720,
     "user": {
      "displayName": "Harish Mulchandani",
      "photoUrl": "https://lh6.googleusercontent.com/-06QAT24CkOg/AAAAAAAAAAI/AAAAAAAAACI/g52CnYOWAF8/s64/photo.jpg",
      "userId": "09422167658826337403"
     },
     "user_tz": -330
    },
    "id": "jVTqj3n8koTa",
    "outputId": "425b7aa2-48fb-4656-9a5f-bb3d4aad8216"
   },
   "outputs": [
    {
     "data": {
      "image/png": "[encoded data removed]",
      "text/plain": [
       "<Figure size 576x396 with 1 Axes>"
      ]
     },
     "metadata": {
      "tags": []
     },
     "output_type": "display_data"
    },
    {
     "data": {
      "text/plain": [
       "<Figure size 576x396 with 0 Axes>"
      ]
     },
     "metadata": {
      "tags": []
     },
     "output_type": "display_data"
    },
    {
     "name": "stdout",
     "output_type": "stream",
     "text": [
      " \n",
      " \n"
     ]
    },
    {
     "data": {
      "text/plain": [
       "<matplotlib.legend.Legend at 0x7fd1f358e630>"
      ]
     },
     "execution_count": 19,
     "metadata": {
      "tags": []
     },
     "output_type": "execute_result"
    },
    {
     "data": {
      "image/png": "[encoded data removed]",
      "text/plain": [
       "<Figure size 576x396 with 1 Axes>"
      ]
     },
     "metadata": {
      "tags": []
     },
     "output_type": "display_data"
    }
   ],
   "source": [
    "train_acc = history.history['acc']\n",
    "train_loss = history.history['loss']\n",
    "val_acc = history.history['val_acc']\n",
    "val_loss = history.history['val_loss']\n",
    "\n",
    "\n",
    "\n",
    "epochs = range(len(train_acc))\n",
    "plt.plot(epochs, train_acc, 'b', label = 'Training_accuracy')\n",
    "plt.plot(epochs, val_acc, 'r', label = 'Validation_accuracy')\n",
    "plt.xlabel('Number of Epochs')\n",
    "plt.ylabel('Accuracy')\n",
    "plt.title('Training_accuracy')\n",
    "plt.legend()\n",
    "\n",
    "plt.figure()\n",
    "plt.show()\n",
    "\n",
    "print(\" \")\n",
    "print(\" \")\n",
    "\n",
    "plt.plot(epochs, train_loss, 'b', label = 'Training_loss')\n",
    "plt.plot(epochs, val_loss, 'r', label = 'Validation_loss')\n",
    "plt.xlabel('Number of Epochs')\n",
    "plt.ylabel('Accuracy')\n",
    "plt.title('Training_accuracy')\n",
    "plt.legend()"
   ]
  },
  {
   "cell_type": "code",
   "execution_count": 0,
   "metadata": {
    "colab": {},
    "colab_type": "code",
    "id": "z3gcXWAalV45"
   },
   "outputs": [],
   "source": [
    "import csv\n",
    "csvfile = \"Training_Accuracy\"\n",
    "\n",
    "\n",
    "with open(csvfile, \"w\") as output:\n",
    "    writer = csv.writer(output, lineterminator='\\n')\n",
    "    for val in train_loss:\n",
    "        writer.writerow([val]) "
   ]
  }
 ],
 "metadata": {
  "accelerator": "GPU",
  "colab": {
   "name": "Classification of Beams into damage and undamage.ipynb",
   "provenance": [],
   "version": "0.3.2"
  },
  "kernelspec": {
   "display_name": "Python 3",
   "language": "python",
   "name": "python3"
  },
  "language_info": {
   "codemirror_mode": {
    "name": "ipython",
    "version": 3
   },
   "file_extension": ".py",
   "mimetype": "text/x-python",
   "name": "python",
   "nbconvert_exporter": "python",
   "pygments_lexer": "ipython3",
   "version": "3.6.6"
  }
 },
 "nbformat": 4,
 "nbformat_minor": 1
}
